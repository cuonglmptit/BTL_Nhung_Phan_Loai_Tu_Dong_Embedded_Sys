{
 "cells": [
  {
   "cell_type": "code",
   "execution_count": 26,
   "id": "648b2e28-9b6c-477a-87de-36f3a06439ba",
   "metadata": {},
   "outputs": [],
   "source": [
    "import glob\n",
    "import random\n",
    "import os\n",
    "import shutil\n",
    "\n",
    "# Get all paths to your images files and text files\n",
    "PATH = 'all data/dataset/'\n",
    "img_paths = glob.glob(PATH + '*.jpg') + glob.glob(PATH + '*.jpeg') + glob.glob(PATH + '*.png')\n",
    "txt_paths = glob.glob(PATH+'*.txt')"
   ]
  },
  {
   "cell_type": "code",
   "execution_count": 27,
   "id": "82ce4a02-fb0f-4e23-8ffe-47ed9b9f6477",
   "metadata": {},
   "outputs": [
    {
     "name": "stdout",
     "output_type": "stream",
     "text": [
      "img:  2849  txt:  2849\n"
     ]
    }
   ],
   "source": [
    "print('img: ',len(img_paths),' txt: ',len(txt_paths))"
   ]
  },
  {
   "cell_type": "code",
   "execution_count": 28,
   "id": "c0e134e8-f80e-4173-8de8-2e02bba55303",
   "metadata": {},
   "outputs": [],
   "source": [
    "# Calculate number of files for training, validation\n",
    "data_size = len(img_paths)\n",
    "r = 0.8\n",
    "train_size = int(data_size * 0.8)"
   ]
  },
  {
   "cell_type": "code",
   "execution_count": 29,
   "id": "800e6135-332d-480a-8db3-b7d4609f245d",
   "metadata": {},
   "outputs": [],
   "source": [
    "# Shuffle two list\n",
    "img_txt = list(zip(img_paths, txt_paths))\n",
    "random.seed(13)\n",
    "random.shuffle(img_txt)\n",
    "img_paths, txt_paths = zip(*img_txt)"
   ]
  },
  {
   "cell_type": "code",
   "execution_count": 30,
   "id": "bae3c23b-0632-46f2-8202-1c9892eca236",
   "metadata": {},
   "outputs": [],
   "source": [
    "# Now split them\n",
    "train_img_paths = img_paths[:train_size]\n",
    "train_txt_paths = txt_paths[:train_size]\n",
    "\n",
    "valid_img_paths = img_paths[train_size:]\n",
    "valid_txt_paths = txt_paths[train_size:]"
   ]
  },
  {
   "cell_type": "code",
   "execution_count": 31,
   "id": "6152b9e6-2411-4e74-b39e-b7f1b3510773",
   "metadata": {},
   "outputs": [],
   "source": [
    "# Move them to train, valid folders\n",
    "train_folder = PATH+'train/' \n",
    "valid_folder = PATH+'valid/'\n",
    "os.mkdir(train_folder)\n",
    "os.mkdir(valid_folder)\n",
    "\n",
    "def move(paths, folder):\n",
    "    for p in paths:\n",
    "        shutil.move(p, folder)\n",
    "\n",
    "move(train_img_paths, train_folder)\n",
    "move(train_txt_paths, train_folder)\n",
    "move(valid_img_paths, valid_folder)\n",
    "move(valid_txt_paths, valid_folder)"
   ]
  }
 ],
 "metadata": {
  "kernelspec": {
   "display_name": "Python 3 (ipykernel)",
   "language": "python",
   "name": "python3"
  },
  "language_info": {
   "codemirror_mode": {
    "name": "ipython",
    "version": 3
   },
   "file_extension": ".py",
   "mimetype": "text/x-python",
   "name": "python",
   "nbconvert_exporter": "python",
   "pygments_lexer": "ipython3",
   "version": "3.11.8"
  }
 },
 "nbformat": 4,
 "nbformat_minor": 5
}
